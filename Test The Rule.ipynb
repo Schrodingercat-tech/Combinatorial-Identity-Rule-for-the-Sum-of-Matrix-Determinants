{
 "cells": [
  {
   "cell_type": "code",
   "execution_count": 1,
   "metadata": {},
   "outputs": [],
   "source": [
    "from detRule import DetRule\n",
    "import numpy as np\n",
    "np.random.seed(73)"
   ]
  },
  {
   "cell_type": "markdown",
   "metadata": {},
   "source": [
    "<h4>Generate random matrices</h4>"
   ]
  },
  {
   "cell_type": "code",
   "execution_count": 14,
   "metadata": {},
   "outputs": [
    {
     "data": {
      "text/plain": [
       "(array([[ 3., 10.,  9.],\n",
       "        [ 8.,  7.,  1.],\n",
       "        [ 7.,  6.,  6.]]),\n",
       " array([[1., 2., 5.],\n",
       "        [5., 1., 4.],\n",
       "        [7., 7., 1.]]),\n",
       " array([[0., 3., 8.],\n",
       "        [6., 1., 3.],\n",
       "        [6., 4., 6.]]))"
      ]
     },
     "execution_count": 14,
     "metadata": {},
     "output_type": "execute_result"
    }
   ],
   "source": [
    "n= 3 # matrix of shape nxn\n",
    "scale = 10 # to increase number of terms\n",
    "a = np.round(scale*np.random.rand(n,n))\n",
    "b = np.round(scale*np.random.rand(n,n))\n",
    "c = np.round(scale*np.random.rand(n,n))\n",
    "a,b,c"
   ]
  },
  {
   "cell_type": "markdown",
   "metadata": {},
   "source": [
    "<h4>Pass \"t\" number of Matrices Into DetRule Class</h4>"
   ]
  },
  {
   "cell_type": "code",
   "execution_count": 3,
   "metadata": {},
   "outputs": [],
   "source": [
    "rule = DetRule(a,b,c)"
   ]
  },
  {
   "cell_type": "markdown",
   "metadata": {},
   "source": [
    "<h4>Converts rank 2 Tensors (Matrices) into Rank 3 Tensor</h4>"
   ]
  },
  {
   "cell_type": "code",
   "execution_count": 4,
   "metadata": {},
   "outputs": [
    {
     "data": {
      "text/plain": [
       "array([[[ 6.,  5.,  5.],\n",
       "        [ 6.,  5.,  2.],\n",
       "        [ 2.,  6.,  8.]],\n",
       "\n",
       "       [[ 3.,  4.,  6.],\n",
       "        [ 2.,  9.,  2.],\n",
       "        [ 6.,  3.,  9.]],\n",
       "\n",
       "       [[ 9.,  1., 10.],\n",
       "        [ 0.,  0.,  5.],\n",
       "        [ 0.,  3.,  2.]]])"
      ]
     },
     "execution_count": 4,
     "metadata": {},
     "output_type": "execute_result"
    }
   ],
   "source": [
    "rule.mats"
   ]
  },
  {
   "cell_type": "markdown",
   "metadata": {},
   "source": [
    "<h4>Check the number of matrices and its Shape</h4>"
   ]
  },
  {
   "cell_type": "code",
   "execution_count": 5,
   "metadata": {},
   "outputs": [
    {
     "data": {
      "text/plain": [
       "(3, 3, 3)"
      ]
     },
     "execution_count": 5,
     "metadata": {},
     "output_type": "execute_result"
    }
   ],
   "source": [
    "t,row,col = rule.shape\n",
    "t,row,col"
   ]
  },
  {
   "cell_type": "markdown",
   "metadata": {},
   "source": [
    "<h4>Check Number of Terms</h4>"
   ]
  },
  {
   "cell_type": "code",
   "execution_count": 6,
   "metadata": {},
   "outputs": [
    {
     "data": {
      "text/plain": [
       "27"
      ]
     },
     "execution_count": 6,
     "metadata": {},
     "output_type": "execute_result"
    }
   ],
   "source": [
    "rule.terms"
   ]
  },
  {
   "cell_type": "markdown",
   "metadata": {},
   "source": [
    "<h4>Add all Matrices</h4>"
   ]
  },
  {
   "cell_type": "code",
   "execution_count": 7,
   "metadata": {},
   "outputs": [
    {
     "data": {
      "text/plain": [
       "array([[18., 10., 21.],\n",
       "       [ 8., 14.,  9.],\n",
       "       [ 8., 12., 19.]])"
      ]
     },
     "execution_count": 7,
     "metadata": {},
     "output_type": "execute_result"
    }
   ],
   "source": [
    "rule.addMats"
   ]
  },
  {
   "cell_type": "markdown",
   "metadata": {},
   "source": [
    "<h4>Find det of added Matrices</h4>"
   ]
  },
  {
   "cell_type": "code",
   "execution_count": 8,
   "metadata": {},
   "outputs": [
    {
     "data": {
      "text/plain": [
       "1707.9999999999993"
      ]
     },
     "execution_count": 8,
     "metadata": {},
     "output_type": "execute_result"
    }
   ],
   "source": [
    "rule.addedMatsDet"
   ]
  },
  {
   "cell_type": "markdown",
   "metadata": {},
   "source": [
    "<h4>Find det of indivisulal matrices</h4>"
   ]
  },
  {
   "cell_type": "code",
   "execution_count": 9,
   "metadata": {},
   "outputs": [
    {
     "data": {
      "text/plain": [
       "([78.0, -87.0, -135.00000000000003], -144.00000000000003)"
      ]
     },
     "execution_count": 9,
     "metadata": {},
     "output_type": "execute_result"
    }
   ],
   "source": [
    "rule.matsDet , sum(rule.matsDet)"
   ]
  },
  {
   "cell_type": "markdown",
   "metadata": {},
   "source": [
    "<h4>Get All Combinational Matrices</h4>"
   ]
  },
  {
   "cell_type": "code",
   "execution_count": 10,
   "metadata": {},
   "outputs": [
    {
     "name": "stdout",
     "output_type": "stream",
     "text": [
      "[[6. 5. 5.]\n",
      " [6. 5. 2.]\n",
      " [2. 6. 8.]]\n",
      "[[6. 5. 5.]\n",
      " [6. 5. 2.]\n",
      " [6. 3. 9.]]\n",
      "[[6. 5. 5.]\n",
      " [6. 5. 2.]\n",
      " [0. 3. 2.]]\n",
      "[[6. 5. 5.]\n",
      " [2. 9. 2.]\n",
      " [2. 6. 8.]]\n",
      "[[6. 5. 5.]\n",
      " [2. 9. 2.]\n",
      " [6. 3. 9.]]\n",
      "[[6. 5. 5.]\n",
      " [2. 9. 2.]\n",
      " [0. 3. 2.]]\n",
      "[[6. 5. 5.]\n",
      " [0. 0. 5.]\n",
      " [2. 6. 8.]]\n",
      "[[6. 5. 5.]\n",
      " [0. 0. 5.]\n",
      " [6. 3. 9.]]\n",
      "[[6. 5. 5.]\n",
      " [0. 0. 5.]\n",
      " [0. 3. 2.]]\n",
      "[[3. 4. 6.]\n",
      " [6. 5. 2.]\n",
      " [2. 6. 8.]]\n",
      "[[3. 4. 6.]\n",
      " [6. 5. 2.]\n",
      " [6. 3. 9.]]\n",
      "[[3. 4. 6.]\n",
      " [6. 5. 2.]\n",
      " [0. 3. 2.]]\n",
      "[[3. 4. 6.]\n",
      " [2. 9. 2.]\n",
      " [2. 6. 8.]]\n",
      "[[3. 4. 6.]\n",
      " [2. 9. 2.]\n",
      " [6. 3. 9.]]\n",
      "[[3. 4. 6.]\n",
      " [2. 9. 2.]\n",
      " [0. 3. 2.]]\n",
      "[[3. 4. 6.]\n",
      " [0. 0. 5.]\n",
      " [2. 6. 8.]]\n",
      "[[3. 4. 6.]\n",
      " [0. 0. 5.]\n",
      " [6. 3. 9.]]\n",
      "[[3. 4. 6.]\n",
      " [0. 0. 5.]\n",
      " [0. 3. 2.]]\n",
      "[[ 9.  1. 10.]\n",
      " [ 6.  5.  2.]\n",
      " [ 2.  6.  8.]]\n",
      "[[ 9.  1. 10.]\n",
      " [ 6.  5.  2.]\n",
      " [ 6.  3.  9.]]\n",
      "[[ 9.  1. 10.]\n",
      " [ 6.  5.  2.]\n",
      " [ 0.  3.  2.]]\n",
      "[[ 9.  1. 10.]\n",
      " [ 2.  9.  2.]\n",
      " [ 2.  6.  8.]]\n",
      "[[ 9.  1. 10.]\n",
      " [ 2.  9.  2.]\n",
      " [ 6.  3.  9.]]\n",
      "[[ 9.  1. 10.]\n",
      " [ 2.  9.  2.]\n",
      " [ 0.  3.  2.]]\n",
      "[[ 9.  1. 10.]\n",
      " [ 0.  0.  5.]\n",
      " [ 2.  6.  8.]]\n",
      "[[ 9.  1. 10.]\n",
      " [ 0.  0.  5.]\n",
      " [ 6.  3.  9.]]\n",
      "[[ 9.  1. 10.]\n",
      " [ 0.  0.  5.]\n",
      " [ 0.  3.  2.]]\n"
     ]
    }
   ],
   "source": [
    "for com in rule.ComMats(): print(com)"
   ]
  },
  {
   "cell_type": "markdown",
   "metadata": {},
   "source": [
    "<h4>Get Det of All Combinations</h4>"
   ]
  },
  {
   "cell_type": "code",
   "execution_count": 11,
   "metadata": {},
   "outputs": [
    {
     "name": "stdout",
     "output_type": "stream",
     "text": [
      "78.0\n",
      "-36.0\n",
      "54.00000000000001\n",
      "270.00000000000006\n",
      "180.0\n",
      "82.00000000000001\n",
      "-129.99999999999997\n",
      "59.999999999999986\n",
      "-90.0\n",
      "64.00000000000003\n",
      "-123.00000000000006\n",
      "72.0\n",
      "95.99999999999999\n",
      "-87.0\n",
      "56.00000000000002\n",
      "-50.000000000000014\n",
      "74.99999999999997\n",
      "-44.99999999999999\n",
      "468.00000000000017\n",
      "189.00000000000003\n",
      "203.99999999999994\n",
      "468.00000000000017\n",
      "189.0000000000002\n",
      "164.0000000000002\n",
      "-259.99999999999994\n",
      "-105.00000000000006\n",
      "-135.00000000000003\n"
     ]
    }
   ],
   "source": [
    "for comdet in rule.ComMatsDet(): print(comdet)"
   ]
  },
  {
   "cell_type": "markdown",
   "metadata": {},
   "source": [
    "<h4>Sum All the Combinational det</h4>"
   ]
  },
  {
   "cell_type": "code",
   "execution_count": 12,
   "metadata": {},
   "outputs": [
    {
     "data": {
      "text/plain": [
       "1708.0000000000005"
      ]
     },
     "execution_count": 12,
     "metadata": {},
     "output_type": "execute_result"
    }
   ],
   "source": [
    "rule.ComMatDetResult()"
   ]
  },
  {
   "cell_type": "markdown",
   "metadata": {},
   "source": [
    "<h4>Validate Sum det vs Combinational Det</h4>"
   ]
  },
  {
   "cell_type": "code",
   "execution_count": 13,
   "metadata": {},
   "outputs": [
    {
     "name": "stdout",
     "output_type": "stream",
     "text": [
      "sum det :1707.9999999999993\n",
      "com det 1708.0000000000005 \n",
      "error -1.1368683772161603e-12\n"
     ]
    }
   ],
   "source": [
    "sum_det = rule.addedMatsDet\n",
    "com_det = rule.ComMatDetResult()\n",
    "error = sum_det-com_det\n",
    "\n",
    "print(f\"sum det :{sum_det}\\ncom det {com_det} \\nerror {error}\")"
   ]
  }
 ],
 "metadata": {
  "kernelspec": {
   "display_name": "Python 3",
   "language": "python",
   "name": "python3"
  },
  "language_info": {
   "codemirror_mode": {
    "name": "ipython",
    "version": 3
   },
   "file_extension": ".py",
   "mimetype": "text/x-python",
   "name": "python",
   "nbconvert_exporter": "python",
   "pygments_lexer": "ipython3",
   "version": "3.11.6"
  }
 },
 "nbformat": 4,
 "nbformat_minor": 2
}
